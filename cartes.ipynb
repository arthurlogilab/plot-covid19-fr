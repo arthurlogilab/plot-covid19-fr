{
 "cells": [
  {
   "cell_type": "markdown",
   "metadata": {},
   "source": [
    "## Carte du taux d'incidence"
   ]
  },
  {
   "cell_type": "code",
   "execution_count": null,
   "metadata": {},
   "outputs": [],
   "source": [
    "import ipyleaflet as ipyl\n",
    "import ipywidgets as ipyw"
   ]
  },
  {
   "cell_type": "code",
   "execution_count": null,
   "metadata": {},
   "outputs": [],
   "source": [
    "from plot_covid19_fr.cartes import data_geojson_dep, get_incidence, get_positivity, color_dep, cmap"
   ]
  },
  {
   "cell_type": "code",
   "execution_count": null,
   "metadata": {},
   "outputs": [],
   "source": [
    "m = ipyl.Map(center=(47.5, 2), zoom=6,\n",
    "             layout=ipyw.Layout(width='100%', height='670px'))\n",
    "\n",
    "geo_json = ipyl.GeoJSON(\n",
    "    data=data_geojson_dep,\n",
    "    style={\n",
    "        'opacity': 1, 'dashArray': '0', 'fillOpacity': 0.6, 'weight': 1\n",
    "    },\n",
    "    hover_style={\n",
    "        'color': 'white', 'dashArray': '0', 'fillOpacity': 0.5\n",
    "    },\n",
    "    style_callback=color_dep\n",
    ")\n",
    "\n",
    "label = ipyw.Label(layout=ipyw.Layout(width='100%'))\n",
    "label.value = \"??\"\n",
    "\n",
    "def click_handler(event=None, feature=None, id=None, properties=None):\n",
    "    dep = feature[\"properties\"][\"code\"]\n",
    "    dep_name = feature[\"properties\"][\"nom\"]\n",
    "    incidence = get_incidence(dep)\n",
    "    positivity = get_positivity(dep)\n",
    "    label.value = (f\"{dep_name} ({dep}) : taux d'incidence = {incidence:.0f}, \"\n",
    "    f\"taux de positivité = {positivity:.2f} %\")\n",
    "    \n",
    "    \n",
    "geo_json.on_click(click_handler)\n",
    "\n",
    "m.add_layer(geo_json)\n",
    "\n",
    "out = ipyw.widgets.Output(layout={'border': '1px solid black'})\n",
    "with out:\n",
    "    display(cmap)\n",
    "    \n",
    "widget_control = ipyl.WidgetControl(widget=out, position='topright')\n",
    "m.add_control(widget_control)\n",
    "\n",
    "out2 = ipyw.widgets.Output(layout={'border': '1px solid black'})\n",
    "with out2:\n",
    "    display(label)\n",
    "\n",
    "widget_control2 = ipyl.WidgetControl(widget=out2, position='topleft')\n",
    "m.add_control(widget_control2)\n",
    "m"
   ]
  }
 ],
 "metadata": {
  "kernelspec": {
   "display_name": "'Python Interactive'",
   "language": "python",
   "name": "6168452b-aec1-4272-9b83-b3cd9403bcb8"
  },
  "language_info": {
   "codemirror_mode": {
    "name": "ipython",
    "version": 3
   },
   "file_extension": ".py",
   "mimetype": "text/x-python",
   "name": "python",
   "nbconvert_exporter": "python",
   "pygments_lexer": "ipython3",
   "version": "3.8.2"
  }
 },
 "nbformat": 4,
 "nbformat_minor": 4
}
