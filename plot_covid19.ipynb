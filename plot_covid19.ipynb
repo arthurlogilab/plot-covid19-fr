{
 "cells": [
  {
   "cell_type": "markdown",
   "metadata": {},
   "source": [
    "# Représentations de l'épidémie de COVID-19 en France après été 2020\n",
    "\n",
    "Pour contribuer ou lire le code de cette petite application : https://foss.heptapod.net/graphics/plot-covid19-fr\n",
    "\n",
    "## Les données utilisées\n",
    "\n",
    "Santé publique France fournit des données publiques sur la situation épidémique en France.\n",
    "\n",
    "-  Données Système d’Informations de DEPistage (SI-DEP) https://www.data.gouv.fr/fr/datasets/donnees-relatives-aux-resultats-des-tests-virologiques-covid-19/\n",
    "\n",
    "   Résultats des tests PCR, national et par départements, avec décomposition en classes d'âges.\n",
    "\n",
    "- Données hospitalières https://www.data.gouv.fr/fr/datasets/donnees-hospitalieres-relatives-a-lepidemie-de-covid-19/\n"
   ]
  },
  {
   "cell_type": "code",
   "execution_count": 1,
   "metadata": {},
   "outputs": [],
   "source": [
    "from functools import partial"
   ]
  },
  {
   "cell_type": "code",
   "execution_count": 2,
   "metadata": {},
   "outputs": [],
   "source": [
    "import numpy as np\n",
    "import ipympl\n",
    "import matplotlib.pyplot as plt\n",
    "import ipywidgets as widgets"
   ]
  },
  {
   "cell_type": "code",
   "execution_count": 3,
   "metadata": {},
   "outputs": [],
   "source": [
    "%matplotlib widget"
   ]
  },
  {
   "cell_type": "code",
   "execution_count": 4,
   "metadata": {},
   "outputs": [],
   "source": [
    "from plot_covid19_fr.departements import DEPARTMENTS"
   ]
  },
  {
   "cell_type": "code",
   "execution_count": 5,
   "metadata": {},
   "outputs": [],
   "source": [
    "from plot_covid19_fr.plot_france import plot_france, date_file, date_file_Ymd\n",
    "from plot_covid19_fr.plot_1dep import plot_1dep\n",
    "from plot_covid19_fr.plot_faster_dyn import plot_faster_dyn\n",
    "from plot_covid19_fr.plot_hospi import plot_hospi\n",
    "from plot_covid19_fr.plot_incidence_versus_tests import plot_incidence_vs_tests"
   ]
  },
  {
   "cell_type": "markdown",
   "metadata": {},
   "source": [
    "## France : taux de positivité, incidence et situation à l'hôpital (moyenne sur 7 jours)\n",
    "\n",
    "On trace d'abord le taux de positivité sur 7 jours (figure de gauche), c'est-à-dire le pourcentage de tests positifs sur 7 jours par rapport au nombre total de tests sur ces mêmes 7 jours.\n",
    "Un des facteurs les plus importants pour prédir la gravité du COVID-19 est l'âge. En dessous de 40 ans, même s'il y a quelques cas graves ou invalidant sur le long terme, la proportion de décés est très faible. Cette proportion augmente ensuite jusqu'à atteindre des valeurs importantes. On trace donc le taux de positivité pour différentes classes d'âges.\n",
    "Pour augmenter la lisibilité des graphiques, on fait ici le choix de rassembler les classes d'âges 70-79, 80-89 et >=90 en une classe d'âges >=70. Si l'épidémie de COVID-19 se transmet jusqu'à cette classe d'âge, on sait qu'il y a une forte probabilité d'avoir beaucoup de monde aux urgences et un nombre important de décés.\n",
    "\n",
    "On voit que l'épidémie est largement porté par les \"jeunes adultes\" avec les courbes verte (20-29 ans), orange (10-19 ans) et rouge (30-39 ans) au dessus de la moyenne. Le taux de positivité des autres classes d'âges adultes augmente exponentiellement avec des périodes de doublement d'environ 15 jours début septembre.\n",
    "\n",
    "Sur la figure centrale en haut, les mêmes données sont représentées en terme de taux d'incidence, qui est le nombre de tests positifs sur 7 jours pour 100000 habitants. Cette normalisation du nombre de cas positifs fait que l'incidence dépend directement du nombre de tests. Par exemple, si on ne teste pas, le taux d'incidence est égal à 0 même avec une très forte épidémie. On peut donc interpréter cette quantité comme une borne inférieure du nombre de cas pour 100000 habitants (le taux d'incidence \"réel\"). Par exemple, un taux d'incidence de 100 signifie que au moins 1 personnes sur 1000 est porteuse du virus.\n",
    "Ainsi, si un taux d'incidence de 100 est grand en terme de dynamique de l'épidémie (la probabilité d'être contaminée doit être reliée au taux d'incidence réel), cette valeur est faible en terme d'immunité de groupe. En effet, il faut en gros 500 semaines à un taux d'incidence réel de 100 pour que 50% de la population ait été touchée."
   ]
  },
  {
   "cell_type": "code",
   "execution_count": 6,
   "metadata": {},
   "outputs": [],
   "source": [
    "class HandlerYScale:\n",
    "    def __init__(self, ax, axes_incidence, axes_hospi, loc=\"France\"):\n",
    "        self.ax = ax\n",
    "        self.axes_incidence = axes_incidence\n",
    "        self.axes_hospi = axes_hospi\n",
    "        self.loc = loc\n",
    "\n",
    "    def __call__(self, change):\n",
    "        new = change[\"new\"]\n",
    "        if new not in [\"linear\", \"log\"]:\n",
    "            return\n",
    "        \n",
    "        if change[\"name\"] != \"value\":\n",
    "            return\n",
    "        \n",
    "        ax = self.ax\n",
    "        axes_incidence = self.axes_incidence\n",
    "\n",
    "        ax.clear()\n",
    "        for _ in axes_incidence + self.axes_hospi:\n",
    "            _.clear()\n",
    "\n",
    "        if self.loc == \"France\":\n",
    "            plot_france(yscale=new, ax=ax, with_incidence=True, axes_incidence=axes_incidence)\n",
    "        else:\n",
    "            plot_1dep(\n",
    "                w_dep.value, yscale=new, ax=ax, \n",
    "                with_incidence=True, axes_incidence=axes_incidence\n",
    "            )\n",
    "\n",
    "        plot_hospi(self.loc, axes=self.axes_hospi, title=\"Données hospitalières\", yscale=new);\n",
    "        \n",
    "        if new == \"log\":\n",
    "            ylim = list(ax.get_ylim())\n",
    "            ylim[0] = 0.8\n",
    "            ax.set_ylim(ylim)\n",
    "            ylim = ax.get_ylim()\n",
    "\n",
    "        if new == \"log\":\n",
    "            yscale_for_title = f\"_{new}\"\n",
    "        else:\n",
    "            yscale_for_title = \"\"\n",
    "\n",
    "        if self.loc == \"France\":\n",
    "            loc_for_title = self.loc\n",
    "        else:\n",
    "            loc_for_title = f\"dep{self.loc}\"\n",
    "\n",
    "        window_title = f\"fig_{loc_for_title}{yscale_for_title}_{date_file_Ymd}\"        \n",
    "        self.ax.figure.canvas.set_window_title(window_title)\n",
    "\n",
    "        fig.canvas.draw()\n",
    "        fig.canvas.flush_events()\n"
   ]
  },
  {
   "cell_type": "code",
   "execution_count": 7,
   "metadata": {},
   "outputs": [
    {
     "data": {
      "application/vnd.jupyter.widget-view+json": {
       "model_id": "33509ba9af8d43a2ae90d5471afab544",
       "version_major": 2,
       "version_minor": 0
      },
      "text/plain": [
       "RadioButtons(description='y-scale:', index=1, options=('log', 'linear'), value='linear')"
      ]
     },
     "metadata": {},
     "output_type": "display_data"
    }
   ],
   "source": [
    "w_yscale = widgets.RadioButtons(\n",
    "    options=['log', 'linear'],\n",
    "    value='linear',\n",
    "    description='y-scale:',\n",
    "    disabled=False\n",
    ")\n",
    "w_yscale"
   ]
  },
  {
   "cell_type": "code",
   "execution_count": 8,
   "metadata": {},
   "outputs": [],
   "source": [
    "def create_fig_5subplots():\n",
    "    fig = plt.figure(figsize=(14, 5))\n",
    "    grid = plt.GridSpec(2, 3, left=0.05, right=0.97, bottom=0.15, top=0.92, wspace=0.2, hspace=0.2)\n",
    "    ax = fig.add_subplot(grid[:, 0])\n",
    "    ax_incidence = fig.add_subplot(grid[0, 1])\n",
    "    ax_number_tests = fig.add_subplot(grid[1, 1], sharex=ax_incidence)\n",
    "    axes_incidence = (ax_incidence, ax_number_tests)\n",
    "    ax_hospi0 = fig.add_subplot(grid[0, 2])\n",
    "    ax_hospi1 = fig.add_subplot(grid[1, 2], sharex=ax_hospi0)\n",
    "    axes_hospi = (ax_hospi0, ax_hospi1)    \n",
    "    fig.text(0.02, 0.975, f\"Données SI-DEP {date_file}\")\n",
    "    return ax, axes_incidence, axes_hospi"
   ]
  },
  {
   "cell_type": "code",
   "execution_count": 9,
   "metadata": {},
   "outputs": [
    {
     "data": {
      "application/vnd.jupyter.widget-view+json": {
       "model_id": "9caff2fda06848f997fcb8f5fb344dec",
       "version_major": 2,
       "version_minor": 0
      },
      "text/plain": [
       "Canvas(toolbar=Toolbar(toolitems=[('Home', 'Reset original view', 'home', 'home'), ('Back', 'Back to previous …"
      ]
     },
     "metadata": {},
     "output_type": "display_data"
    }
   ],
   "source": [
    "ax, axes_incidence, axes_hospi = create_fig_5subplots();"
   ]
  },
  {
   "cell_type": "code",
   "execution_count": 10,
   "metadata": {},
   "outputs": [],
   "source": [
    "ax = plot_france(yscale=w_yscale.value, ax=ax, with_incidence=True, axes_incidence=axes_incidence)"
   ]
  },
  {
   "cell_type": "code",
   "execution_count": 11,
   "metadata": {},
   "outputs": [],
   "source": [
    "plot_hospi(\"France\", axes=axes_hospi, title=\"Données hospitalières\", yscale=w_yscale.value);"
   ]
  },
  {
   "cell_type": "code",
   "execution_count": 12,
   "metadata": {},
   "outputs": [],
   "source": [
    "handler_yscale = HandlerYScale(ax, axes_incidence, axes_hospi, \"France\")\n",
    "w_yscale.observe(handler_yscale)"
   ]
  },
  {
   "cell_type": "code",
   "execution_count": 13,
   "metadata": {},
   "outputs": [],
   "source": [
    "# ax.figure.canvas.set_window_title(f\"fig_France_{date_file_Ymd}\")"
   ]
  },
  {
   "cell_type": "markdown",
   "metadata": {},
   "source": [
    "Sur la figure centrale en bas, le nombre de tests par jour est représenté. On voit que le nombre de tests a tendance à baisser sur les derniers jours. C'est en partie dû au retard à la remontée des résultats : dans les départements les plus atteints par l'épidémie, les résultats arrivent avec des délais supérieurs à 48h.\n",
    "Ainsi, il faut considérer les derniers points (aux alentours et à droite des lignes pointillées verticales) avec beaucoup de précaution.\n",
    "\n",
    "Même en tenant compte de ces retards et donc du fait que ces derniers points sont plus bas qu'ils ne seront après consolidations des résultats, il semble que l'augmentation du taux d'incidence ralentisse.\n",
    "\n",
    "Les différentes couleurs dans les figures centrales correspondent aux classes d'âges. On voit à partir du 7 septembre une augmentation significative du nombre de tests des 0-9 ans (dans certains départements, voir plus bas, on voit clairement cette augmentation chez les 10-19 ans et les 30-39 ans). Cela pourrait correspondre à des tests d'enfants avec des symptomes évocateurs du COVID-19 (et peut être de leurs parents pour les 30-39 ans). Ces tests peuvent avoir tendance à faire baisser les taux de positivité des classes d'âges concernées et du taux de positivité moyen."
   ]
  },
  {
   "cell_type": "markdown",
   "metadata": {},
   "source": [
    "## Carte du taux d'incidence (métropole)\n",
    "\n",
    "On peut cliquer sur un département pour avoir plus d'informations."
   ]
  },
  {
   "cell_type": "code",
   "execution_count": 14,
   "metadata": {},
   "outputs": [],
   "source": [
    "import ipyleaflet as ipyl\n",
    "import ipywidgets as ipyw"
   ]
  },
  {
   "cell_type": "code",
   "execution_count": 15,
   "metadata": {},
   "outputs": [],
   "source": [
    "from plot_covid19_fr.cartes import data_geojson_dep, get_incidence, get_positivity, color_dep, cmap"
   ]
  },
  {
   "cell_type": "code",
   "execution_count": 16,
   "metadata": {},
   "outputs": [
    {
     "data": {
      "application/vnd.jupyter.widget-view+json": {
       "model_id": "038637683bc64f78bdf1ea2cbc8aee20",
       "version_major": 2,
       "version_minor": 0
      },
      "text/plain": [
       "Map(center=[47.5, 2], controls=(ZoomControl(options=['position', 'zoom_in_text', 'zoom_in_title', 'zoom_out_te…"
      ]
     },
     "metadata": {},
     "output_type": "display_data"
    }
   ],
   "source": [
    "m = ipyl.Map(center=(47.5, 2), zoom=6,\n",
    "             layout=ipyw.Layout(width='100%', height='670px'))\n",
    "\n",
    "geo_json = ipyl.GeoJSON(\n",
    "    data=data_geojson_dep,\n",
    "    style={\n",
    "        'opacity': 1, 'dashArray': '0', 'fillOpacity': 0.6, 'weight': 1\n",
    "    },\n",
    "    hover_style={\n",
    "        'color': 'white', 'dashArray': '0', 'fillOpacity': 0.5\n",
    "    },\n",
    "    style_callback=color_dep\n",
    ")\n",
    "\n",
    "label = ipyw.Label(layout=ipyw.Layout(width='100%'))\n",
    "label.value = \"??\"\n",
    "\n",
    "def click_handler(event=None, feature=None, id=None, properties=None):\n",
    "    dep = feature[\"properties\"][\"code\"]\n",
    "    dep_name = feature[\"properties\"][\"nom\"]\n",
    "    incidence = get_incidence(dep)\n",
    "    positivity = get_positivity(dep)\n",
    "    label.value = (f\"{dep_name} ({dep}) : taux d'incidence = {incidence:.0f}, \"\n",
    "    f\"taux de positivité = {positivity:.2f} %\")\n",
    "    \n",
    "    \n",
    "geo_json.on_click(click_handler)\n",
    "\n",
    "m.add_layer(geo_json)\n",
    "\n",
    "out = ipyw.widgets.Output(layout={'border': '1px solid black'})\n",
    "with out:\n",
    "    display(cmap)\n",
    "    \n",
    "widget_control = ipyl.WidgetControl(widget=out, position='topright')\n",
    "m.add_control(widget_control)\n",
    "\n",
    "out2 = ipyw.widgets.Output(layout={'border': '1px solid black'})\n",
    "with out2:\n",
    "    display(label)\n",
    "\n",
    "widget_control2 = ipyl.WidgetControl(widget=out2, position='topleft')\n",
    "m.add_control(widget_control2)\n",
    "m"
   ]
  },
  {
   "cell_type": "markdown",
   "metadata": {},
   "source": [
    "## Taux de positivité et d'incidence pour les départements à forte dynamique épidémique\n",
    "\n",
    "Il est intéressant d'étudier plus en détail le cas des départements pour lesquels l'épidémie est la plus forte. Ici, on considère d'abord les départements métropolitains pour lesquels le taux d'incidence est supérieur à 120. La figure à gauche représente le taux de positivité sur 7 jours pour ces départements à forte épidémie.\n",
    "Les taux d'incidence sont tracés sur la figure de droite.\n",
    "Le niveau d'incidence égale à 50 est considéré comme un seuil d'alerte (ligne horizontale noire sur la figure)."
   ]
  },
  {
   "cell_type": "code",
   "execution_count": 17,
   "metadata": {},
   "outputs": [
    {
     "data": {
      "application/vnd.jupyter.widget-view+json": {
       "model_id": "52992f2b51c1498ca0adb0f37e2ab7ae",
       "version_major": 2,
       "version_minor": 0
      },
      "text/plain": [
       "Canvas(toolbar=Toolbar(toolitems=[('Home', 'Reset original view', 'home', 'home'), ('Back', 'Back to previous …"
      ]
     },
     "metadata": {},
     "output_type": "display_data"
    }
   ],
   "source": [
    "fig, axes = plt.subplots(1, 3, figsize=(14, 5));"
   ]
  },
  {
   "cell_type": "code",
   "execution_count": 18,
   "metadata": {},
   "outputs": [],
   "source": [
    "min_incidence = 120\n",
    "plot_faster_dyn(axes=axes, min_incidence=min_incidence)\n",
    "for _ in axes[1:]:\n",
    "    _.get_legend().remove()\n",
    "fig.text(0.03, 0.975, f\"Données SI-DEP {date_file}, incidence > {min_incidence}\")\n",
    "axes[0].figure.tight_layout(rect=(0, 0, 1, 0.98))"
   ]
  },
  {
   "cell_type": "markdown",
   "metadata": {},
   "source": [
    "Attention, le taux d'incidence peut baisser juste parce qu'on teste moins. C'est ce qui se passe début septembre pour certains départements (par exemple les Bouches-du-Rhône) avec une diminution du taux d'incidence mais une augmentation du taux de positivité!\n",
    "\n",
    "Il est aussi intéressant de représenter l'incidence en fonction du nombre de tests normalisé, le ratio entre ces deux valeurs étant le taux de positivité (droites et pourcentages rouges). Un département est représenté par cinq points correspondant à 5 jours."
   ]
  },
  {
   "cell_type": "code",
   "execution_count": 19,
   "metadata": {},
   "outputs": [
    {
     "data": {
      "application/vnd.jupyter.widget-view+json": {
       "model_id": "1be2bd7c24f3492f9d3086267eb3a279",
       "version_major": 2,
       "version_minor": 0
      },
      "text/plain": [
       "Canvas(toolbar=Toolbar(toolitems=[('Home', 'Reset original view', 'home', 'home'), ('Back', 'Back to previous …"
      ]
     },
     "metadata": {},
     "output_type": "display_data"
    }
   ],
   "source": [
    "fig, ax = plt.subplots(figsize=(10, 5));"
   ]
  },
  {
   "cell_type": "code",
   "execution_count": 20,
   "metadata": {},
   "outputs": [],
   "source": [
    "min_incidence = 120\n",
    "plot_incidence_vs_tests(ax=ax, min_incidence=min_incidence)\n",
    "ax.figure.tight_layout()\n",
    "window_title = f\"incidence_vs_tests{date_file}\"\n",
    "ax.figure.canvas.set_window_title(window_title)"
   ]
  },
  {
   "cell_type": "markdown",
   "metadata": {},
   "source": [
    "On considère ensuite les départements pour lesquels le taux d'incidence est fort (entre 80 et 120)."
   ]
  },
  {
   "cell_type": "code",
   "execution_count": 21,
   "metadata": {},
   "outputs": [
    {
     "data": {
      "application/vnd.jupyter.widget-view+json": {
       "model_id": "93a04cca9c534f54a50937b5160c5bfa",
       "version_major": 2,
       "version_minor": 0
      },
      "text/plain": [
       "Canvas(toolbar=Toolbar(toolitems=[('Home', 'Reset original view', 'home', 'home'), ('Back', 'Back to previous …"
      ]
     },
     "metadata": {},
     "output_type": "display_data"
    }
   ],
   "source": [
    "fig, axes = plt.subplots(1, 3, figsize=(14, 5));"
   ]
  },
  {
   "cell_type": "code",
   "execution_count": 22,
   "metadata": {},
   "outputs": [],
   "source": [
    "max_incidence = min_incidence\n",
    "min_incidence = 100\n",
    "plot_faster_dyn(axes=axes, min_incidence=min_incidence, max_incidence=max_incidence)\n",
    "for _ in axes[1:]:\n",
    "    _.get_legend().remove()\n",
    "fig.text(0.03, 0.975, f\"Données SI-DEP {date_file}, {min_incidence} < incidence < {max_incidence}\")\n",
    "axes[0].figure.tight_layout(rect=(0, 0, 1, 0.98))"
   ]
  },
  {
   "cell_type": "markdown",
   "metadata": {},
   "source": [
    "On considère ensuite les départements pour lesquels le taux d'incidence est intermédiaire (entre 70 et 80)."
   ]
  },
  {
   "cell_type": "code",
   "execution_count": 23,
   "metadata": {},
   "outputs": [
    {
     "data": {
      "application/vnd.jupyter.widget-view+json": {
       "model_id": "ce4567851d89416fa342c7fd4560080a",
       "version_major": 2,
       "version_minor": 0
      },
      "text/plain": [
       "Canvas(toolbar=Toolbar(toolitems=[('Home', 'Reset original view', 'home', 'home'), ('Back', 'Back to previous …"
      ]
     },
     "metadata": {},
     "output_type": "display_data"
    }
   ],
   "source": [
    "fig, axes = plt.subplots(1, 3, figsize=(14, 5));"
   ]
  },
  {
   "cell_type": "code",
   "execution_count": 24,
   "metadata": {},
   "outputs": [],
   "source": [
    "max_incidence = min_incidence\n",
    "min_incidence = 80\n",
    "plot_faster_dyn(axes=axes, min_incidence=min_incidence, max_incidence=max_incidence)\n",
    "for _ in axes[1:]:\n",
    "    _.get_legend().remove()\n",
    "fig.text(0.03, 0.975, f\"Données SI-DEP {date_file}, {min_incidence} < incidence < {max_incidence}\")\n",
    "axes[0].figure.tight_layout(rect=(0, 0, 1, 0.98))"
   ]
  },
  {
   "cell_type": "markdown",
   "metadata": {},
   "source": [
    "## Taux de positivité pour un département décomposé en classes d'âges\n"
   ]
  },
  {
   "cell_type": "code",
   "execution_count": 25,
   "metadata": {},
   "outputs": [
    {
     "data": {
      "application/vnd.jupyter.widget-view+json": {
       "model_id": "0da01bf7759a40d6bd4d540641b18b97",
       "version_major": 2,
       "version_minor": 0
      },
      "text/plain": [
       "Dropdown(description='Département :', index=38, options=(('01 - Ain', '01'), ('02 - Aisne', '02'), ('03 - Alli…"
      ]
     },
     "metadata": {},
     "output_type": "display_data"
    }
   ],
   "source": [
    "w_dep = widgets.Dropdown(\n",
    "    options=[(idep + \" - \" + dep, idep) for idep, dep in DEPARTMENTS.items()],\n",
    "    value=\"38\",\n",
    "    description='Département :',\n",
    ")\n",
    "w_dep"
   ]
  },
  {
   "cell_type": "code",
   "execution_count": 26,
   "metadata": {
    "scrolled": true
   },
   "outputs": [
    {
     "data": {
      "application/vnd.jupyter.widget-view+json": {
       "model_id": "c32b5e0dc9d2434283becaaddcaca80a",
       "version_major": 2,
       "version_minor": 0
      },
      "text/plain": [
       "RadioButtons(description='y-scale:', index=1, options=('log', 'linear'), value='linear')"
      ]
     },
     "metadata": {},
     "output_type": "display_data"
    }
   ],
   "source": [
    "w_yscale = widgets.RadioButtons(\n",
    "    options=['log', 'linear'],\n",
    "    value='linear',\n",
    "    description='y-scale:',\n",
    "    disabled=False\n",
    ")\n",
    "w_yscale"
   ]
  },
  {
   "cell_type": "code",
   "execution_count": 27,
   "metadata": {},
   "outputs": [
    {
     "data": {
      "application/vnd.jupyter.widget-view+json": {
       "model_id": "92fa9253487a4e49b5bfcbcfedee88c4",
       "version_major": 2,
       "version_minor": 0
      },
      "text/plain": [
       "Canvas(toolbar=Toolbar(toolitems=[('Home', 'Reset original view', 'home', 'home'), ('Back', 'Back to previous …"
      ]
     },
     "metadata": {},
     "output_type": "display_data"
    }
   ],
   "source": [
    "ax, axes_incidence, axes_hospi = create_fig_5subplots();"
   ]
  },
  {
   "cell_type": "code",
   "execution_count": 28,
   "metadata": {},
   "outputs": [],
   "source": [
    "plot_1dep(w_dep.value, yscale=w_yscale.value, ax=ax, with_incidence=True, axes_incidence=axes_incidence);"
   ]
  },
  {
   "cell_type": "code",
   "execution_count": 29,
   "metadata": {},
   "outputs": [],
   "source": [
    "plot_hospi(w_dep.value, axes=axes_hospi, title=\"Données hospitalières\");"
   ]
  },
  {
   "cell_type": "code",
   "execution_count": 30,
   "metadata": {},
   "outputs": [],
   "source": [
    "handler_yscale = HandlerYScale(ax, axes_incidence, axes_hospi, w_dep.value)\n",
    "w_yscale.observe(handler_yscale)"
   ]
  },
  {
   "cell_type": "code",
   "execution_count": 31,
   "metadata": {},
   "outputs": [],
   "source": [
    "def change_dep(change):\n",
    "    if not change.new or not isinstance(change.new, str):\n",
    "        return\n",
    "    dep = change.new\n",
    "    if not dep[0].isnumeric() or \" - \" in dep:\n",
    "        return\n",
    "    \n",
    "    handler_yscale.loc = dep\n",
    "    \n",
    "    ax.clear()\n",
    "    for _ in axes_incidence + axes_hospi:\n",
    "        _.clear()\n",
    "    \n",
    "    fig = ax.figure\n",
    "    plot_1dep(dep, yscale=w_yscale.value, ax=ax, with_incidence=True, axes_incidence=axes_incidence)\n",
    "    plot_hospi(dep, axes=axes_hospi, title=\"Données hospitalières\", yscale=w_yscale.value)\n",
    "    fig.canvas.set_window_title(f\"fig_dep{dep}_{date_file_Ymd}\")\n",
    "    plt.show()\n",
    "    \n",
    "w_dep.observe(change_dep)"
   ]
  },
  {
   "cell_type": "markdown",
   "metadata": {},
   "source": [
    "Isère : on observe une accélération très rapide (super exponentielle) de l'épidémie dans les premiers jours de septembre (temps de doublement de moins de 10 jours). "
   ]
  }
 ],
 "metadata": {
  "kernelspec": {
   "display_name": "Python 3",
   "language": "python",
   "name": "python3"
  },
  "language_info": {
   "codemirror_mode": {
    "name": "ipython",
    "version": 3
   },
   "file_extension": ".py",
   "mimetype": "text/x-python",
   "name": "python",
   "nbconvert_exporter": "python",
   "pygments_lexer": "ipython3",
   "version": "3.8.2"
  },
  "widgets": {
   "application/vnd.jupyter.widget-state+json": {
    "state": {
     "01054e70e2164b7fa5866002ff1fcfa3": {
      "model_module": "@jupyter-widgets/base",
      "model_module_version": "1.2.0",
      "model_name": "LayoutModel",
      "state": {}
     },
     "0c88ad6c0da647f59f165f36e7bf974b": {
      "model_module": "jupyter-matplotlib",
      "model_module_version": "^0.7.2",
      "model_name": "ToolbarModel",
      "state": {
       "layout": "IPY_MODEL_a9ff7f6172994fc7b5e4afc0dbe30610",
       "toolitems": [
        [
         "Home",
         "Reset original view",
         "home",
         "home"
        ],
        [
         "Back",
         "Back to previous view",
         "arrow-left",
         "back"
        ],
        [
         "Forward",
         "Forward to next view",
         "arrow-right",
         "forward"
        ],
        [
         "Pan",
         "Left button pans, Right button zooms\nx/y fixes axis, CTRL fixes aspect",
         "arrows",
         "pan"
        ],
        [
         "Zoom",
         "Zoom to rectangle\nx/y fixes axis, CTRL fixes aspect",
         "square-o",
         "zoom"
        ],
        [
         "Download",
         "Download plot",
         "floppy-o",
         "save_figure"
        ]
       ]
      }
     },
     "0f23c7c1c848444e88e61d96464ba4c9": {
      "model_module": "@jupyter-widgets/base",
      "model_module_version": "1.2.0",
      "model_name": "LayoutModel",
      "state": {}
     },
     "17ce83f2ea51471e8ff0a87824f5854e": {
      "model_module": "@jupyter-widgets/controls",
      "model_module_version": "1.5.0",
      "model_name": "RadioButtonsModel",
      "state": {
       "_options_labels": [
        "log",
        "linear"
       ],
       "description": "y-scale:",
       "index": 1,
       "layout": "IPY_MODEL_f006442317f34e68bfcedafa6c3efa04",
       "style": "IPY_MODEL_c4de41013ee840ba9dd6ab008616091e"
      }
     },
     "35c0094fa80943cab1e2679ee033264d": {
      "model_module": "@jupyter-widgets/base",
      "model_module_version": "1.2.0",
      "model_name": "LayoutModel",
      "state": {}
     },
     "3f49a697020047c48c9c61c9345225a7": {
      "model_module": "jupyter-matplotlib",
      "model_module_version": "^0.7.2",
      "model_name": "ToolbarModel",
      "state": {
       "layout": "IPY_MODEL_8ed771f7adf84c63baa612d5deb65af0",
       "toolitems": [
        [
         "Home",
         "Reset original view",
         "home",
         "home"
        ],
        [
         "Back",
         "Back to previous view",
         "arrow-left",
         "back"
        ],
        [
         "Forward",
         "Forward to next view",
         "arrow-right",
         "forward"
        ],
        [
         "Pan",
         "Left button pans, Right button zooms\nx/y fixes axis, CTRL fixes aspect",
         "arrows",
         "pan"
        ],
        [
         "Zoom",
         "Zoom to rectangle\nx/y fixes axis, CTRL fixes aspect",
         "square-o",
         "zoom"
        ],
        [
         "Download",
         "Download plot",
         "floppy-o",
         "save_figure"
        ]
       ]
      }
     },
     "4696cf758e8446f4a3bc950350bdb4d1": {
      "model_module": "jupyter-matplotlib",
      "model_module_version": "^0.7.2",
      "model_name": "ToolbarModel",
      "state": {
       "layout": "IPY_MODEL_0f23c7c1c848444e88e61d96464ba4c9",
       "toolitems": [
        [
         "Home",
         "Reset original view",
         "home",
         "home"
        ],
        [
         "Back",
         "Back to previous view",
         "arrow-left",
         "back"
        ],
        [
         "Forward",
         "Forward to next view",
         "arrow-right",
         "forward"
        ],
        [
         "Pan",
         "Left button pans, Right button zooms\nx/y fixes axis, CTRL fixes aspect",
         "arrows",
         "pan"
        ],
        [
         "Zoom",
         "Zoom to rectangle\nx/y fixes axis, CTRL fixes aspect",
         "square-o",
         "zoom"
        ],
        [
         "Download",
         "Download plot",
         "floppy-o",
         "save_figure"
        ]
       ]
      }
     },
     "4bd5cd92aa544ed5823d8c12bb895f4f": {
      "model_module": "jupyter-matplotlib",
      "model_module_version": "^0.7.2",
      "model_name": "MPLCanvasModel",
      "state": {
       "_cursor": "default",
       "_figure_label": "Figure 3",
       "_height": 480,
       "_width": 640,
       "layout": "IPY_MODEL_721707f8c7e04eae99ec20acd236bd86",
       "toolbar": "IPY_MODEL_4696cf758e8446f4a3bc950350bdb4d1",
       "toolbar_position": "left"
      }
     },
     "57d34424e5cd47a3875259abae1cdcbf": {
      "model_module": "@jupyter-widgets/controls",
      "model_module_version": "1.5.0",
      "model_name": "DescriptionStyleModel",
      "state": {
       "description_width": ""
      }
     },
     "63b63990688b458ca79eef7df973ecf3": {
      "model_module": "@jupyter-widgets/controls",
      "model_module_version": "1.5.0",
      "model_name": "DropdownModel",
      "state": {
       "_options_labels": [
        "Ain",
        "Aisne",
        "Allier",
        "Alpes-de-Haute-Provence",
        "Hautes-Alpes",
        "Alpes-Maritimes",
        "Ardèche",
        "Ardennes",
        "Ariège",
        "Aube",
        "Aude",
        "Aveyron",
        "Bouches-du-Rhône",
        "Calvados",
        "Cantal",
        "Charente",
        "Charente-Maritime",
        "Cher",
        "Corrèze",
        "Corse-du-Sud",
        "Haute-Corse",
        "Côte-d'Or",
        "Côtes-d'Armor",
        "Creuse",
        "Dordogne",
        "Doubs",
        "Drôme",
        "Eure",
        "Eure-et-Loir",
        "Finistère",
        "Gard",
        "Haute-Garonne",
        "Gers",
        "Gironde",
        "Hérault",
        "Ille-et-Vilaine",
        "Indre",
        "Indre-et-Loire",
        "Isère",
        "Jura",
        "Landes",
        "Loir-et-Cher",
        "Loire",
        "Haute-Loire",
        "Loire-Atlantique",
        "Loiret",
        "Lot",
        "Lot-et-Garonne",
        "Lozère",
        "Maine-et-Loire",
        "Manche",
        "Marne",
        "Haute-Marne",
        "Mayenne",
        "Meurthe-et-Moselle",
        "Meuse",
        "Morbihan",
        "Moselle",
        "Nièvre",
        "Nord",
        "Oise",
        "Orne",
        "Pas-de-Calais",
        "Puy-de-Dôme",
        "Pyrénées-Atlantiques",
        "Hautes-Pyrénées",
        "Pyrénées-Orientales",
        "Bas-Rhin",
        "Haut-Rhin",
        "Rhône",
        "Haute-Saône",
        "Saône-et-Loire",
        "Sarthe",
        "Savoie",
        "Haute-Savoie",
        "Paris",
        "Seine-Maritime",
        "Seine-et-Marne",
        "Yvelines",
        "Deux-Sèvres",
        "Somme",
        "Tarn",
        "Tarn-et-Garonne",
        "Var",
        "Vaucluse",
        "Vendée",
        "Vienne",
        "Haute-Vienne",
        "Vosges",
        "Yonne",
        "Territoire de Belfort",
        "Essonne",
        "Hauts-de-Seine",
        "Seine-Saint-Denis",
        "Val-de-Marne",
        "Val-d'Oise",
        "Guadeloupe",
        "Martinique",
        "Guyane",
        "La Réunion",
        "Mayotte"
       ],
       "description": "Number:",
       "index": 38,
       "layout": "IPY_MODEL_c04384b3af9847ef8a3ace7f74eaa32d",
       "style": "IPY_MODEL_efe0bd92f7a94563a6fcd49014e013a6"
      }
     },
     "6538f71105ea4adb85c9f577411e2f49": {
      "model_module": "jupyter-matplotlib",
      "model_module_version": "^0.7.2",
      "model_name": "MPLCanvasModel",
      "state": {
       "_cursor": "default",
       "_figure_label": "Figure 1",
       "_height": 480,
       "_width": 640,
       "layout": "IPY_MODEL_35c0094fa80943cab1e2679ee033264d",
       "toolbar": "IPY_MODEL_e103215922904821a937ff0c490fbfe3",
       "toolbar_position": "left"
      }
     },
     "6f3301127a7c4194a5a5d241e66c7d46": {
      "model_module": "jupyter-matplotlib",
      "model_module_version": "^0.7.2",
      "model_name": "MPLCanvasModel",
      "state": {
       "_cursor": "default",
       "_figure_label": "Figure 2",
       "_height": 480,
       "_message": "t = 2020-08-13  y = 8.213547",
       "_width": 640,
       "layout": "IPY_MODEL_01054e70e2164b7fa5866002ff1fcfa3",
       "toolbar": "IPY_MODEL_0c88ad6c0da647f59f165f36e7bf974b",
       "toolbar_position": "left"
      }
     },
     "721707f8c7e04eae99ec20acd236bd86": {
      "model_module": "@jupyter-widgets/base",
      "model_module_version": "1.2.0",
      "model_name": "LayoutModel",
      "state": {}
     },
     "8ed771f7adf84c63baa612d5deb65af0": {
      "model_module": "@jupyter-widgets/base",
      "model_module_version": "1.2.0",
      "model_name": "LayoutModel",
      "state": {}
     },
     "a19ed03e204141f38b62c0b08c7d797e": {
      "model_module": "@jupyter-widgets/base",
      "model_module_version": "1.2.0",
      "model_name": "LayoutModel",
      "state": {}
     },
     "a96c33234f914d2cb315b16343d9726c": {
      "model_module": "@jupyter-widgets/base",
      "model_module_version": "1.2.0",
      "model_name": "LayoutModel",
      "state": {}
     },
     "a9ff7f6172994fc7b5e4afc0dbe30610": {
      "model_module": "@jupyter-widgets/base",
      "model_module_version": "1.2.0",
      "model_name": "LayoutModel",
      "state": {}
     },
     "bf9eb4c79808475ab412f0e802bc1570": {
      "model_module": "jupyter-matplotlib",
      "model_module_version": "^0.7.2",
      "model_name": "MPLCanvasModel",
      "state": {
       "_cursor": "default",
       "_figure_label": "Figure 4",
       "_height": 480,
       "_width": 640,
       "layout": "IPY_MODEL_c9c0fcc8a3074684865c1b608c662f38",
       "toolbar": "IPY_MODEL_3f49a697020047c48c9c61c9345225a7",
       "toolbar_position": "left"
      }
     },
     "c04384b3af9847ef8a3ace7f74eaa32d": {
      "model_module": "@jupyter-widgets/base",
      "model_module_version": "1.2.0",
      "model_name": "LayoutModel",
      "state": {}
     },
     "c4de41013ee840ba9dd6ab008616091e": {
      "model_module": "@jupyter-widgets/controls",
      "model_module_version": "1.5.0",
      "model_name": "DescriptionStyleModel",
      "state": {
       "description_width": ""
      }
     },
     "c9c0fcc8a3074684865c1b608c662f38": {
      "model_module": "@jupyter-widgets/base",
      "model_module_version": "1.2.0",
      "model_name": "LayoutModel",
      "state": {}
     },
     "e103215922904821a937ff0c490fbfe3": {
      "model_module": "jupyter-matplotlib",
      "model_module_version": "^0.7.2",
      "model_name": "ToolbarModel",
      "state": {
       "layout": "IPY_MODEL_a96c33234f914d2cb315b16343d9726c",
       "toolitems": [
        [
         "Home",
         "Reset original view",
         "home",
         "home"
        ],
        [
         "Back",
         "Back to previous view",
         "arrow-left",
         "back"
        ],
        [
         "Forward",
         "Forward to next view",
         "arrow-right",
         "forward"
        ],
        [
         "Pan",
         "Left button pans, Right button zooms\nx/y fixes axis, CTRL fixes aspect",
         "arrows",
         "pan"
        ],
        [
         "Zoom",
         "Zoom to rectangle\nx/y fixes axis, CTRL fixes aspect",
         "square-o",
         "zoom"
        ],
        [
         "Download",
         "Download plot",
         "floppy-o",
         "save_figure"
        ]
       ]
      }
     },
     "efe0bd92f7a94563a6fcd49014e013a6": {
      "model_module": "@jupyter-widgets/controls",
      "model_module_version": "1.5.0",
      "model_name": "DescriptionStyleModel",
      "state": {
       "description_width": ""
      }
     },
     "f006442317f34e68bfcedafa6c3efa04": {
      "model_module": "@jupyter-widgets/base",
      "model_module_version": "1.2.0",
      "model_name": "LayoutModel",
      "state": {}
     },
     "f3b34d5e18be4ac38ab02de71f47a417": {
      "model_module": "@jupyter-widgets/controls",
      "model_module_version": "1.5.0",
      "model_name": "RadioButtonsModel",
      "state": {
       "_options_labels": [
        "log",
        "linear"
       ],
       "description": "y-scale:",
       "index": 1,
       "layout": "IPY_MODEL_a19ed03e204141f38b62c0b08c7d797e",
       "style": "IPY_MODEL_57d34424e5cd47a3875259abae1cdcbf"
      }
     }
    },
    "version_major": 2,
    "version_minor": 0
   }
  }
 },
 "nbformat": 4,
 "nbformat_minor": 4
}
