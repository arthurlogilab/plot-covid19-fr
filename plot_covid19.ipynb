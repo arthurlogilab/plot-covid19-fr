{
 "cells": [
  {
   "cell_type": "markdown",
   "metadata": {},
   "source": [
    "# Représentations des données SI-DEP (Système d’Informations de DEPistage)\n",
    "\n",
    "Santé publique France fournit des données publiques sur les tests COVID-19.\n",
    "\n",
    "https://www.data.gouv.fr/fr/datasets/donnees-relatives-aux-resultats-des-tests-virologiques-covid-19/\n",
    "\n"
   ]
  },
  {
   "cell_type": "code",
   "execution_count": 1,
   "metadata": {},
   "outputs": [],
   "source": [
    "%matplotlib widget\n",
    "\n",
    "from functools import partial\n",
    "\n",
    "import numpy as np\n",
    "import ipympl\n",
    "import matplotlib.pyplot as plt\n",
    "import ipywidgets as widgets\n",
    "\n",
    "from departements import DEPARTMENTS"
   ]
  },
  {
   "cell_type": "code",
   "execution_count": 2,
   "metadata": {},
   "outputs": [
    {
     "name": "stderr",
     "output_type": "stream",
     "text": [
      "<ipython-input-2-3d63ae390599>:1: DtypeWarning: Columns (0) have mixed types.Specify dtype option on import or set low_memory=False.\n",
      "  from plot_france import plot_france\n",
      "/home/pierre/.pyenv/versions/3.8.2/lib/python3.8/site-packages/IPython/core/interactiveshell.py:3331: DtypeWarning: Columns (0) have mixed types.Specify dtype option on import or set low_memory=False.\n",
      "  exec(code_obj, self.user_global_ns, self.user_ns)\n"
     ]
    }
   ],
   "source": [
    "from plot_france import plot_france\n",
    "from plot_1dep import plot_1dep\n",
    "from plot_faster_dyn import plot_faster_dyn"
   ]
  },
  {
   "cell_type": "markdown",
   "metadata": {},
   "source": [
    "## Taux de positivité sur 7 jours, France\n",
    "\n",
    "On trace d'abord le taux de positivité sur 7 jours, c'est-à-dire le pourcentage de tests positifs sur 7 jours par rapport au nombre total de tests sur ces mêmes 7 jours.\n"
   ]
  },
  {
   "cell_type": "code",
   "execution_count": 3,
   "metadata": {},
   "outputs": [],
   "source": [
    "def handler_yscale(change, ax):\n",
    "    new = change[\"new\"]\n",
    "    if new not in [\"linear\", \"log\"]:\n",
    "        return\n",
    "    ax.set_yscale(new)\n",
    "    \n",
    "    if new == \"log\":\n",
    "        ylim = list(ax.get_ylim())\n",
    "        ylim[0] = 0.8\n",
    "        ax.set_ylim(ylim)\n",
    "        ylim = ax.get_ylim()\n",
    "    \n",
    "    fig = ax.figure\n",
    "    fig.canvas.draw()\n",
    "    fig.canvas.flush_events()"
   ]
  },
  {
   "cell_type": "code",
   "execution_count": 4,
   "metadata": {},
   "outputs": [
    {
     "data": {
      "application/vnd.jupyter.widget-view+json": {
       "model_id": "cbdef2944bb14ddcaf215acfc38008ac",
       "version_major": 2,
       "version_minor": 0
      },
      "text/plain": [
       "RadioButtons(description='y-scale:', index=1, options=('log', 'linear'), value='linear')"
      ]
     },
     "metadata": {},
     "output_type": "display_data"
    }
   ],
   "source": [
    "w_yscale = widgets.RadioButtons(\n",
    "    options=['log', 'linear'],\n",
    "    value='linear',\n",
    "    description='y-scale:',\n",
    "    disabled=False\n",
    ")\n",
    "w_yscale"
   ]
  },
  {
   "cell_type": "code",
   "execution_count": 5,
   "metadata": {},
   "outputs": [
    {
     "data": {
      "application/vnd.jupyter.widget-view+json": {
       "model_id": "bbebc3bce61142f2a686096758db8386",
       "version_major": 2,
       "version_minor": 0
      },
      "text/plain": [
       "Canvas(toolbar=Toolbar(toolitems=[('Home', 'Reset original view', 'home', 'home'), ('Back', 'Back to previous …"
      ]
     },
     "metadata": {},
     "output_type": "display_data"
    }
   ],
   "source": [
    "ax = plot_france(yscale=w_yscale.value)\n",
    "plt.show()"
   ]
  },
  {
   "cell_type": "code",
   "execution_count": 6,
   "metadata": {},
   "outputs": [],
   "source": [
    "w_yscale.observe(partial(handler_yscale, ax=ax))"
   ]
  },
  {
   "cell_type": "markdown",
   "metadata": {},
   "source": [
    "## Taux de positivité et d'incidence pour les départements à forte dynamique épidémique\n",
    "\n",
    "Il est intéressant d'étudier plus en détail le cas des départements pour lesquels l'épidémie est la plus forte. Ici, on considère les départements métropolitains pour lesquels le taux de positivité sur 7 jours est supérieur à 6 %. La première figure représente le taux de positivité sur 7 jours pour ces départements à forte épidémie.\n",
    "\n",
    "Sur la figure suivante, les mêmes données sont représentées en terme de taux d'incidence, qui est le nombre de tests positifs sur 7 jours pour 100000 habitants. Cette normalisation du nombre de cas positifs fait que l'incidence dépend directement du nombre de tests. Par exemple, si on ne teste pas, le taux d'incidence est égal à 0 même avec une très forte épidémie. On peut donc interpréter cette quantité comme une borne inférieure du nombre de cas pour 100000 habitants. Le niveau d'incidence égale à 50 est considéré comme un seuil d'alerte (ligne horizontale noire sur la figure). On voit que le département de l'Isère a dépassé ce seuil d'alerte le 3 septembre.\n",
    "\n",
    "Attention, le taux d'incidence peut baisser juste parce qu'on teste moins. C'est ce qui se passe début septembre pour certains départements (par exemple les Bouches-du-Rhône) avec une diminution du taux d'incidence mais une augmentation du taux de positivité!"
   ]
  },
  {
   "cell_type": "code",
   "execution_count": 7,
   "metadata": {},
   "outputs": [
    {
     "data": {
      "application/vnd.jupyter.widget-view+json": {
       "model_id": "e639f8fdf64042249596237ba8aef837",
       "version_major": 2,
       "version_minor": 0
      },
      "text/plain": [
       "Canvas(toolbar=Toolbar(toolitems=[('Home', 'Reset original view', 'home', 'home'), ('Back', 'Back to previous …"
      ]
     },
     "metadata": {},
     "output_type": "display_data"
    },
    {
     "data": {
      "application/vnd.jupyter.widget-view+json": {
       "model_id": "7df45cab9ead44ad923882daac960d10",
       "version_major": 2,
       "version_minor": 0
      },
      "text/plain": [
       "Canvas(toolbar=Toolbar(toolitems=[('Home', 'Reset original view', 'home', 'home'), ('Back', 'Back to previous …"
      ]
     },
     "metadata": {},
     "output_type": "display_data"
    }
   ],
   "source": [
    "plot_faster_dyn()\n",
    "plt.show()"
   ]
  },
  {
   "cell_type": "markdown",
   "metadata": {},
   "source": [
    "## Taux de positivité pour un département décomposé en classes d'âges\n",
    "\n",
    "Un des facteurs les plus importants pour prédir la gravité du COVID-19 est l'âge. En dessous de 40 ans, même s'il y a quelques cas graves ou invalidant sur le long terme, la proportion de décés est très faible. Cette proportion augmente ensuite jusqu'à atteindre des valeurs importantes.\n",
    "\n",
    "On trace le taux de positivité pour un département pour différentes classes d'âges.\n",
    "\n",
    "Pour augmenter la lisibilité des graphiques, on fait ici le choix de rassembler les classes d'âges 70-79, 80-89 et >=90 en une classe d'âges >=70. Si l'épidémie de COVID-19 se transmet jusqu'à cette classe d'âge, on sait qu'il y a une forte probabilité d'avoir beaucoup de monde aux urgences et un nombre important de décés.\n"
   ]
  },
  {
   "cell_type": "code",
   "execution_count": 8,
   "metadata": {},
   "outputs": [
    {
     "data": {
      "application/vnd.jupyter.widget-view+json": {
       "model_id": "df9bccb6773d457aa2da69d29459e83d",
       "version_major": 2,
       "version_minor": 0
      },
      "text/plain": [
       "Dropdown(description='Number:', index=38, options=(('Ain', '01'), ('Aisne', '02'), ('Allier', '03'), ('Alpes-d…"
      ]
     },
     "metadata": {},
     "output_type": "display_data"
    }
   ],
   "source": [
    "w = widgets.Dropdown(\n",
    "    options=[(dep, idep) for idep, dep in DEPARTMENTS.items()],\n",
    "    value=\"38\",\n",
    "    description='Number:',\n",
    ")\n",
    "w"
   ]
  },
  {
   "cell_type": "code",
   "execution_count": 9,
   "metadata": {},
   "outputs": [
    {
     "data": {
      "application/vnd.jupyter.widget-view+json": {
       "model_id": "4c04f63703e1480c8bc104d5082211d6",
       "version_major": 2,
       "version_minor": 0
      },
      "text/plain": [
       "RadioButtons(description='y-scale:', index=1, options=('log', 'linear'), value='linear')"
      ]
     },
     "metadata": {},
     "output_type": "display_data"
    }
   ],
   "source": [
    "w_yscale = widgets.RadioButtons(\n",
    "    options=['log', 'linear'],\n",
    "    value='linear',\n",
    "    description='y-scale:',\n",
    "    disabled=False\n",
    ")\n",
    "w_yscale"
   ]
  },
  {
   "cell_type": "code",
   "execution_count": 10,
   "metadata": {},
   "outputs": [
    {
     "data": {
      "application/vnd.jupyter.widget-view+json": {
       "model_id": "10f85222f99f4f02b7ad09d3de94b72f",
       "version_major": 2,
       "version_minor": 0
      },
      "text/plain": [
       "Canvas(toolbar=Toolbar(toolitems=[('Home', 'Reset original view', 'home', 'home'), ('Back', 'Back to previous …"
      ]
     },
     "metadata": {},
     "output_type": "display_data"
    }
   ],
   "source": [
    "ax = plot_1dep(38, yscale=w_yscale.value)\n",
    "plt.show()"
   ]
  },
  {
   "cell_type": "code",
   "execution_count": 11,
   "metadata": {},
   "outputs": [],
   "source": [
    "w_yscale.observe(partial(handler_yscale, ax=ax))"
   ]
  },
  {
   "cell_type": "markdown",
   "metadata": {},
   "source": [
    "Isère : on observe une accélération très rapide (super exponentielle) de l'épidémie dans les premiers jours de septembre (temps de doublement de moins de 10 jours). "
   ]
  }
 ],
 "metadata": {
  "kernelspec": {
   "display_name": "Python 3",
   "language": "python",
   "name": "python3"
  },
  "language_info": {
   "codemirror_mode": {
    "name": "ipython",
    "version": 3
   },
   "file_extension": ".py",
   "mimetype": "text/x-python",
   "name": "python",
   "nbconvert_exporter": "python",
   "pygments_lexer": "ipython3",
   "version": "3.8.2"
  },
  "widgets": {
   "application/vnd.jupyter.widget-state+json": {
    "state": {
     "01054e70e2164b7fa5866002ff1fcfa3": {
      "model_module": "@jupyter-widgets/base",
      "model_module_version": "1.2.0",
      "model_name": "LayoutModel",
      "state": {}
     },
     "0c88ad6c0da647f59f165f36e7bf974b": {
      "model_module": "jupyter-matplotlib",
      "model_module_version": "^0.7.2",
      "model_name": "ToolbarModel",
      "state": {
       "layout": "IPY_MODEL_a9ff7f6172994fc7b5e4afc0dbe30610",
       "toolitems": [
        [
         "Home",
         "Reset original view",
         "home",
         "home"
        ],
        [
         "Back",
         "Back to previous view",
         "arrow-left",
         "back"
        ],
        [
         "Forward",
         "Forward to next view",
         "arrow-right",
         "forward"
        ],
        [
         "Pan",
         "Left button pans, Right button zooms\nx/y fixes axis, CTRL fixes aspect",
         "arrows",
         "pan"
        ],
        [
         "Zoom",
         "Zoom to rectangle\nx/y fixes axis, CTRL fixes aspect",
         "square-o",
         "zoom"
        ],
        [
         "Download",
         "Download plot",
         "floppy-o",
         "save_figure"
        ]
       ]
      }
     },
     "0f23c7c1c848444e88e61d96464ba4c9": {
      "model_module": "@jupyter-widgets/base",
      "model_module_version": "1.2.0",
      "model_name": "LayoutModel",
      "state": {}
     },
     "17ce83f2ea51471e8ff0a87824f5854e": {
      "model_module": "@jupyter-widgets/controls",
      "model_module_version": "1.5.0",
      "model_name": "RadioButtonsModel",
      "state": {
       "_options_labels": [
        "log",
        "linear"
       ],
       "description": "y-scale:",
       "index": 1,
       "layout": "IPY_MODEL_f006442317f34e68bfcedafa6c3efa04",
       "style": "IPY_MODEL_c4de41013ee840ba9dd6ab008616091e"
      }
     },
     "35c0094fa80943cab1e2679ee033264d": {
      "model_module": "@jupyter-widgets/base",
      "model_module_version": "1.2.0",
      "model_name": "LayoutModel",
      "state": {}
     },
     "3f49a697020047c48c9c61c9345225a7": {
      "model_module": "jupyter-matplotlib",
      "model_module_version": "^0.7.2",
      "model_name": "ToolbarModel",
      "state": {
       "layout": "IPY_MODEL_8ed771f7adf84c63baa612d5deb65af0",
       "toolitems": [
        [
         "Home",
         "Reset original view",
         "home",
         "home"
        ],
        [
         "Back",
         "Back to previous view",
         "arrow-left",
         "back"
        ],
        [
         "Forward",
         "Forward to next view",
         "arrow-right",
         "forward"
        ],
        [
         "Pan",
         "Left button pans, Right button zooms\nx/y fixes axis, CTRL fixes aspect",
         "arrows",
         "pan"
        ],
        [
         "Zoom",
         "Zoom to rectangle\nx/y fixes axis, CTRL fixes aspect",
         "square-o",
         "zoom"
        ],
        [
         "Download",
         "Download plot",
         "floppy-o",
         "save_figure"
        ]
       ]
      }
     },
     "4696cf758e8446f4a3bc950350bdb4d1": {
      "model_module": "jupyter-matplotlib",
      "model_module_version": "^0.7.2",
      "model_name": "ToolbarModel",
      "state": {
       "layout": "IPY_MODEL_0f23c7c1c848444e88e61d96464ba4c9",
       "toolitems": [
        [
         "Home",
         "Reset original view",
         "home",
         "home"
        ],
        [
         "Back",
         "Back to previous view",
         "arrow-left",
         "back"
        ],
        [
         "Forward",
         "Forward to next view",
         "arrow-right",
         "forward"
        ],
        [
         "Pan",
         "Left button pans, Right button zooms\nx/y fixes axis, CTRL fixes aspect",
         "arrows",
         "pan"
        ],
        [
         "Zoom",
         "Zoom to rectangle\nx/y fixes axis, CTRL fixes aspect",
         "square-o",
         "zoom"
        ],
        [
         "Download",
         "Download plot",
         "floppy-o",
         "save_figure"
        ]
       ]
      }
     },
     "4bd5cd92aa544ed5823d8c12bb895f4f": {
      "model_module": "jupyter-matplotlib",
      "model_module_version": "^0.7.2",
      "model_name": "MPLCanvasModel",
      "state": {
       "_cursor": "default",
       "_figure_label": "Figure 3",
       "_height": 480,
       "_width": 640,
       "layout": "IPY_MODEL_721707f8c7e04eae99ec20acd236bd86",
       "toolbar": "IPY_MODEL_4696cf758e8446f4a3bc950350bdb4d1",
       "toolbar_position": "left"
      }
     },
     "57d34424e5cd47a3875259abae1cdcbf": {
      "model_module": "@jupyter-widgets/controls",
      "model_module_version": "1.5.0",
      "model_name": "DescriptionStyleModel",
      "state": {
       "description_width": ""
      }
     },
     "63b63990688b458ca79eef7df973ecf3": {
      "model_module": "@jupyter-widgets/controls",
      "model_module_version": "1.5.0",
      "model_name": "DropdownModel",
      "state": {
       "_options_labels": [
        "Ain",
        "Aisne",
        "Allier",
        "Alpes-de-Haute-Provence",
        "Hautes-Alpes",
        "Alpes-Maritimes",
        "Ardèche",
        "Ardennes",
        "Ariège",
        "Aube",
        "Aude",
        "Aveyron",
        "Bouches-du-Rhône",
        "Calvados",
        "Cantal",
        "Charente",
        "Charente-Maritime",
        "Cher",
        "Corrèze",
        "Corse-du-Sud",
        "Haute-Corse",
        "Côte-d'Or",
        "Côtes-d'Armor",
        "Creuse",
        "Dordogne",
        "Doubs",
        "Drôme",
        "Eure",
        "Eure-et-Loir",
        "Finistère",
        "Gard",
        "Haute-Garonne",
        "Gers",
        "Gironde",
        "Hérault",
        "Ille-et-Vilaine",
        "Indre",
        "Indre-et-Loire",
        "Isère",
        "Jura",
        "Landes",
        "Loir-et-Cher",
        "Loire",
        "Haute-Loire",
        "Loire-Atlantique",
        "Loiret",
        "Lot",
        "Lot-et-Garonne",
        "Lozère",
        "Maine-et-Loire",
        "Manche",
        "Marne",
        "Haute-Marne",
        "Mayenne",
        "Meurthe-et-Moselle",
        "Meuse",
        "Morbihan",
        "Moselle",
        "Nièvre",
        "Nord",
        "Oise",
        "Orne",
        "Pas-de-Calais",
        "Puy-de-Dôme",
        "Pyrénées-Atlantiques",
        "Hautes-Pyrénées",
        "Pyrénées-Orientales",
        "Bas-Rhin",
        "Haut-Rhin",
        "Rhône",
        "Haute-Saône",
        "Saône-et-Loire",
        "Sarthe",
        "Savoie",
        "Haute-Savoie",
        "Paris",
        "Seine-Maritime",
        "Seine-et-Marne",
        "Yvelines",
        "Deux-Sèvres",
        "Somme",
        "Tarn",
        "Tarn-et-Garonne",
        "Var",
        "Vaucluse",
        "Vendée",
        "Vienne",
        "Haute-Vienne",
        "Vosges",
        "Yonne",
        "Territoire de Belfort",
        "Essonne",
        "Hauts-de-Seine",
        "Seine-Saint-Denis",
        "Val-de-Marne",
        "Val-d'Oise",
        "Guadeloupe",
        "Martinique",
        "Guyane",
        "La Réunion",
        "Mayotte"
       ],
       "description": "Number:",
       "index": 38,
       "layout": "IPY_MODEL_c04384b3af9847ef8a3ace7f74eaa32d",
       "style": "IPY_MODEL_efe0bd92f7a94563a6fcd49014e013a6"
      }
     },
     "6538f71105ea4adb85c9f577411e2f49": {
      "model_module": "jupyter-matplotlib",
      "model_module_version": "^0.7.2",
      "model_name": "MPLCanvasModel",
      "state": {
       "_cursor": "default",
       "_figure_label": "Figure 1",
       "_height": 480,
       "_width": 640,
       "layout": "IPY_MODEL_35c0094fa80943cab1e2679ee033264d",
       "toolbar": "IPY_MODEL_e103215922904821a937ff0c490fbfe3",
       "toolbar_position": "left"
      }
     },
     "6f3301127a7c4194a5a5d241e66c7d46": {
      "model_module": "jupyter-matplotlib",
      "model_module_version": "^0.7.2",
      "model_name": "MPLCanvasModel",
      "state": {
       "_cursor": "default",
       "_figure_label": "Figure 2",
       "_height": 480,
       "_message": "t = 2020-08-13  y = 8.213547",
       "_width": 640,
       "layout": "IPY_MODEL_01054e70e2164b7fa5866002ff1fcfa3",
       "toolbar": "IPY_MODEL_0c88ad6c0da647f59f165f36e7bf974b",
       "toolbar_position": "left"
      }
     },
     "721707f8c7e04eae99ec20acd236bd86": {
      "model_module": "@jupyter-widgets/base",
      "model_module_version": "1.2.0",
      "model_name": "LayoutModel",
      "state": {}
     },
     "8ed771f7adf84c63baa612d5deb65af0": {
      "model_module": "@jupyter-widgets/base",
      "model_module_version": "1.2.0",
      "model_name": "LayoutModel",
      "state": {}
     },
     "a19ed03e204141f38b62c0b08c7d797e": {
      "model_module": "@jupyter-widgets/base",
      "model_module_version": "1.2.0",
      "model_name": "LayoutModel",
      "state": {}
     },
     "a96c33234f914d2cb315b16343d9726c": {
      "model_module": "@jupyter-widgets/base",
      "model_module_version": "1.2.0",
      "model_name": "LayoutModel",
      "state": {}
     },
     "a9ff7f6172994fc7b5e4afc0dbe30610": {
      "model_module": "@jupyter-widgets/base",
      "model_module_version": "1.2.0",
      "model_name": "LayoutModel",
      "state": {}
     },
     "bf9eb4c79808475ab412f0e802bc1570": {
      "model_module": "jupyter-matplotlib",
      "model_module_version": "^0.7.2",
      "model_name": "MPLCanvasModel",
      "state": {
       "_cursor": "default",
       "_figure_label": "Figure 4",
       "_height": 480,
       "_width": 640,
       "layout": "IPY_MODEL_c9c0fcc8a3074684865c1b608c662f38",
       "toolbar": "IPY_MODEL_3f49a697020047c48c9c61c9345225a7",
       "toolbar_position": "left"
      }
     },
     "c04384b3af9847ef8a3ace7f74eaa32d": {
      "model_module": "@jupyter-widgets/base",
      "model_module_version": "1.2.0",
      "model_name": "LayoutModel",
      "state": {}
     },
     "c4de41013ee840ba9dd6ab008616091e": {
      "model_module": "@jupyter-widgets/controls",
      "model_module_version": "1.5.0",
      "model_name": "DescriptionStyleModel",
      "state": {
       "description_width": ""
      }
     },
     "c9c0fcc8a3074684865c1b608c662f38": {
      "model_module": "@jupyter-widgets/base",
      "model_module_version": "1.2.0",
      "model_name": "LayoutModel",
      "state": {}
     },
     "e103215922904821a937ff0c490fbfe3": {
      "model_module": "jupyter-matplotlib",
      "model_module_version": "^0.7.2",
      "model_name": "ToolbarModel",
      "state": {
       "layout": "IPY_MODEL_a96c33234f914d2cb315b16343d9726c",
       "toolitems": [
        [
         "Home",
         "Reset original view",
         "home",
         "home"
        ],
        [
         "Back",
         "Back to previous view",
         "arrow-left",
         "back"
        ],
        [
         "Forward",
         "Forward to next view",
         "arrow-right",
         "forward"
        ],
        [
         "Pan",
         "Left button pans, Right button zooms\nx/y fixes axis, CTRL fixes aspect",
         "arrows",
         "pan"
        ],
        [
         "Zoom",
         "Zoom to rectangle\nx/y fixes axis, CTRL fixes aspect",
         "square-o",
         "zoom"
        ],
        [
         "Download",
         "Download plot",
         "floppy-o",
         "save_figure"
        ]
       ]
      }
     },
     "efe0bd92f7a94563a6fcd49014e013a6": {
      "model_module": "@jupyter-widgets/controls",
      "model_module_version": "1.5.0",
      "model_name": "DescriptionStyleModel",
      "state": {
       "description_width": ""
      }
     },
     "f006442317f34e68bfcedafa6c3efa04": {
      "model_module": "@jupyter-widgets/base",
      "model_module_version": "1.2.0",
      "model_name": "LayoutModel",
      "state": {}
     },
     "f3b34d5e18be4ac38ab02de71f47a417": {
      "model_module": "@jupyter-widgets/controls",
      "model_module_version": "1.5.0",
      "model_name": "RadioButtonsModel",
      "state": {
       "_options_labels": [
        "log",
        "linear"
       ],
       "description": "y-scale:",
       "index": 1,
       "layout": "IPY_MODEL_a19ed03e204141f38b62c0b08c7d797e",
       "style": "IPY_MODEL_57d34424e5cd47a3875259abae1cdcbf"
      }
     }
    },
    "version_major": 2,
    "version_minor": 0
   }
  }
 },
 "nbformat": 4,
 "nbformat_minor": 4
}
